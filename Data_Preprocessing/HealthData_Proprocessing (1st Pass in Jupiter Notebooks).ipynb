{
 "cells": [
  {
   "cell_type": "code",
   "execution_count": 1,
   "metadata": {},
   "outputs": [],
   "source": [
    "# Load required modules\n",
    "import numpy as np\n",
    "import pandas as pd\n",
    "import matplotlib.pyplot as plt\n",
    "import re"
   ]
  },
  {
   "cell_type": "code",
   "execution_count": 2,
   "metadata": {},
   "outputs": [
    {
     "name": "stderr",
     "output_type": "stream",
     "text": [
      "/Users/david/opt/anaconda3/lib/python3.7/site-packages/IPython/core/interactiveshell.py:3058: DtypeWarning: Columns (4,5) have mixed types. Specify dtype option on import or set low_memory=False.\n",
      "  interactivity=interactivity, compiler=compiler, result=result)\n"
     ]
    },
    {
     "name": "stdout",
     "output_type": "stream",
     "text": [
      "ROW_ID\n",
      "SUBJECT_ID\n",
      "HADM_ID\n",
      "CHARTDATE\n",
      "CHARTTIME\n",
      "STORETIME\n",
      "CATEGORY\n",
      "DESCRIPTION\n",
      "CGID\n",
      "ISERROR\n",
      "TEXT\n"
     ]
    }
   ],
   "source": [
    "# Import Data and Read Collumns\n",
    "df = pd.read_csv(\"NOTEEVENTS.csv\")\n",
    "for col in df.columns: \n",
    "    print(col)"
   ]
  },
  {
   "cell_type": "code",
   "execution_count": 3,
   "metadata": {},
   "outputs": [],
   "source": [
    "# Drop Unnecesary Collumns\n",
    "df_notes = df.drop(['ROW_ID','SUBJECT_ID','HADM_ID','CHARTDATE','CHARTTIME','STORETIME','CATEGORY','DESCRIPTION','CGID','ISERROR'], axis=1)"
   ]
  },
  {
   "cell_type": "code",
   "execution_count": 4,
   "metadata": {},
   "outputs": [
    {
     "data": {
      "text/html": [
       "<div>\n",
       "<style scoped>\n",
       "    .dataframe tbody tr th:only-of-type {\n",
       "        vertical-align: middle;\n",
       "    }\n",
       "\n",
       "    .dataframe tbody tr th {\n",
       "        vertical-align: top;\n",
       "    }\n",
       "\n",
       "    .dataframe thead th {\n",
       "        text-align: right;\n",
       "    }\n",
       "</style>\n",
       "<table border=\"1\" class=\"dataframe\">\n",
       "  <thead>\n",
       "    <tr style=\"text-align: right;\">\n",
       "      <th></th>\n",
       "      <th>TEXT</th>\n",
       "    </tr>\n",
       "  </thead>\n",
       "  <tbody>\n",
       "    <tr>\n",
       "      <td>0</td>\n",
       "      <td>Admission Date:  [**2151-7-16**]       Dischar...</td>\n",
       "    </tr>\n",
       "    <tr>\n",
       "      <td>1</td>\n",
       "      <td>Admission Date:  [**2118-6-2**]       Discharg...</td>\n",
       "    </tr>\n",
       "    <tr>\n",
       "      <td>2</td>\n",
       "      <td>Admission Date:  [**2119-5-4**]              D...</td>\n",
       "    </tr>\n",
       "    <tr>\n",
       "      <td>3</td>\n",
       "      <td>Admission Date:  [**2124-7-21**]              ...</td>\n",
       "    </tr>\n",
       "    <tr>\n",
       "      <td>4</td>\n",
       "      <td>Admission Date:  [**2162-3-3**]              D...</td>\n",
       "    </tr>\n",
       "  </tbody>\n",
       "</table>\n",
       "</div>"
      ],
      "text/plain": [
       "                                                TEXT\n",
       "0  Admission Date:  [**2151-7-16**]       Dischar...\n",
       "1  Admission Date:  [**2118-6-2**]       Discharg...\n",
       "2  Admission Date:  [**2119-5-4**]              D...\n",
       "3  Admission Date:  [**2124-7-21**]              ...\n",
       "4  Admission Date:  [**2162-3-3**]              D..."
      ]
     },
     "execution_count": 4,
     "metadata": {},
     "output_type": "execute_result"
    }
   ],
   "source": [
    "df_notes.head()"
   ]
  },
  {
   "cell_type": "code",
   "execution_count": 5,
   "metadata": {},
   "outputs": [
    {
     "data": {
      "text/html": [
       "<div>\n",
       "<style scoped>\n",
       "    .dataframe tbody tr th:only-of-type {\n",
       "        vertical-align: middle;\n",
       "    }\n",
       "\n",
       "    .dataframe tbody tr th {\n",
       "        vertical-align: top;\n",
       "    }\n",
       "\n",
       "    .dataframe thead th {\n",
       "        text-align: right;\n",
       "    }\n",
       "</style>\n",
       "<table border=\"1\" class=\"dataframe\">\n",
       "  <thead>\n",
       "    <tr style=\"text-align: right;\">\n",
       "      <th></th>\n",
       "      <th>TEXT</th>\n",
       "    </tr>\n",
       "  </thead>\n",
       "  <tbody>\n",
       "    <tr>\n",
       "      <td>2083175</td>\n",
       "      <td>NPN\\n\\n\\n#1  Infant remains in RA with O2 sats...</td>\n",
       "    </tr>\n",
       "    <tr>\n",
       "      <td>2083176</td>\n",
       "      <td>Neonatology\\nDOL #5, CGA 36 weeks.\\n\\nCVR: Con...</td>\n",
       "    </tr>\n",
       "    <tr>\n",
       "      <td>2083177</td>\n",
       "      <td>Family Meeting Note\\nFamily meeting held with ...</td>\n",
       "    </tr>\n",
       "    <tr>\n",
       "      <td>2083178</td>\n",
       "      <td>NPN 1800\\n\\n\\n#1 Resp: [**Known lastname 2243*...</td>\n",
       "    </tr>\n",
       "    <tr>\n",
       "      <td>2083179</td>\n",
       "      <td>NPN 1800\\nNursing Addendum:\\n[**Known lastname...</td>\n",
       "    </tr>\n",
       "  </tbody>\n",
       "</table>\n",
       "</div>"
      ],
      "text/plain": [
       "                                                      TEXT\n",
       "2083175  NPN\\n\\n\\n#1  Infant remains in RA with O2 sats...\n",
       "2083176  Neonatology\\nDOL #5, CGA 36 weeks.\\n\\nCVR: Con...\n",
       "2083177  Family Meeting Note\\nFamily meeting held with ...\n",
       "2083178  NPN 1800\\n\\n\\n#1 Resp: [**Known lastname 2243*...\n",
       "2083179  NPN 1800\\nNursing Addendum:\\n[**Known lastname..."
      ]
     },
     "execution_count": 5,
     "metadata": {},
     "output_type": "execute_result"
    }
   ],
   "source": [
    "df_notes.tail()"
   ]
  },
  {
   "cell_type": "code",
   "execution_count": 6,
   "metadata": {},
   "outputs": [
    {
     "data": {
      "text/plain": [
       "2083180"
      ]
     },
     "execution_count": 6,
     "metadata": {},
     "output_type": "execute_result"
    }
   ],
   "source": [
    "len(df_notes)"
   ]
  },
  {
   "cell_type": "code",
   "execution_count": 8,
   "metadata": {},
   "outputs": [],
   "source": [
    "df_notes.to_csv (r'C:\\Users\\David\\Raw_HealthData.csv', index = False, header=True)"
   ]
  },
  {
   "cell_type": "code",
   "execution_count": 9,
   "metadata": {},
   "outputs": [],
   "source": [
    "# Print first 20,000 rows\n",
    "text = df_notes.head(20000)"
   ]
  },
  {
   "cell_type": "code",
   "execution_count": 10,
   "metadata": {},
   "outputs": [],
   "source": [
    "text.to_csv (r'C:\\Users\\David\\Downloads\\Updated_HealthData.csv', index = False, header=True)"
   ]
  }
 ],
 "metadata": {
  "kernelspec": {
   "display_name": "Python 3",
   "language": "python",
   "name": "python3"
  },
  "language_info": {
   "codemirror_mode": {
    "name": "ipython",
    "version": 3
   },
   "file_extension": ".py",
   "mimetype": "text/x-python",
   "name": "python",
   "nbconvert_exporter": "python",
   "pygments_lexer": "ipython3",
   "version": "3.7.4"
  }
 },
 "nbformat": 4,
 "nbformat_minor": 2
}
