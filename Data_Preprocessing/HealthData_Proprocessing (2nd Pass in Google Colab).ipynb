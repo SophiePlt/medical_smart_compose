{
  "nbformat": 4,
  "nbformat_minor": 0,
  "metadata": {
    "colab": {
      "name": "Health Data Cleaning Final Version.ipynb",
      "provenance": [],
      "collapsed_sections": []
    },
    "kernelspec": {
      "name": "python3",
      "display_name": "Python 3"
    }
  },
  "cells": [
    {
      "cell_type": "code",
      "metadata": {
        "id": "FgcCJOcCLZQO",
        "colab_type": "code",
        "colab": {}
      },
      "source": [
        "# Import Packages\n",
        "import numpy as np\n",
        "import pandas as pd\n",
        "import matplotlib.pyplot as plt\n",
        "import re\n",
        "from google.colab import files"
      ],
      "execution_count": 0,
      "outputs": []
    },
    {
      "cell_type": "code",
      "metadata": {
        "id": "IklozN5GLghT",
        "colab_type": "code",
        "colab": {}
      },
      "source": [
        "# Code to read csv file into Colaboratory:\n",
        "!pip install -U -q PyDrive\n",
        "from pydrive.auth import GoogleAuth\n",
        "from pydrive.drive import GoogleDrive\n",
        "from google.colab import auth\n",
        "from oauth2client.client import GoogleCredentials\n",
        "# Authenticate and create the PyDrive client.\n",
        "auth.authenticate_user()\n",
        "gauth = GoogleAuth()\n",
        "gauth.credentials = GoogleCredentials.get_application_default()\n",
        "drive = GoogleDrive(gauth)"
      ],
      "execution_count": 0,
      "outputs": []
    },
    {
      "cell_type": "code",
      "metadata": {
        "id": "49U9SijWLtOD",
        "colab_type": "code",
        "colab": {}
      },
      "source": [
        "link = 'https://drive.google.com/open?id=1hN3YhlO_8VrPAYhWsOn5-vG7YLSmVdVz' # The shareable link' # The shareable link\n",
        "\n",
        "fluff, id = link.split('=')\n",
        "# print (id) # Verify that you have everything after '='"
      ],
      "execution_count": 0,
      "outputs": []
    },
    {
      "cell_type": "code",
      "metadata": {
        "id": "n0U7Ejz8MNzi",
        "colab_type": "code",
        "colab": {}
      },
      "source": [
        "downloaded = drive.CreateFile({'id':id}) \n",
        "downloaded.GetContentFile('Raw Data_4.21_20000_Rows.csv')  \n",
        "df = pd.read_csv('Raw Data_4.21_20000_Rows.csv')\n",
        "# Dataset is now stored in a Pandas Dataframe"
      ],
      "execution_count": 0,
      "outputs": []
    },
    {
      "cell_type": "code",
      "metadata": {
        "id": "BUIaNBTZMPTP",
        "colab_type": "code",
        "outputId": "276f4734-ab8e-4a99-bec7-77e043891ea6",
        "colab": {
          "base_uri": "https://localhost:8080/",
          "height": 125
        }
      },
      "source": [
        "# Filter data to pull the first collumn of data\n",
        "all_text = df.iloc[:,0]\n",
        "\n",
        "# Filter data to ensure it has the appropiate health report sections\n",
        "test_text= all_text[all_text.str.contains('Admission Date:')]\n",
        "test_text= all_text[all_text.str.contains('Discharge Date:')]\n",
        "test_text= all_text[all_text.str.contains('Date of Birth:')]\n",
        "test_text= all_text[all_text.str.contains('Sex:')]\n",
        "test_text= all_text[all_text.str.contains('Service:')]\n",
        "test_text= all_text[all_text.str.contains('Allergies:')]\n",
        "test_text= all_text[all_text.str.contains('Chief Complaint:')]\n",
        "test_text= all_text[all_text.str.contains('Major Surgical or Invasive Procedure:')]\n",
        "test_text= all_text[all_text.str.contains('History of Present Illness:')]\n",
        "test_text= all_text[all_text.str.contains('Past Medical History:')]\n",
        "test_text= all_text[all_text.str.contains('Social History:')]\n",
        "test_text= all_text[all_text.str.contains('Family History:')]\n",
        "test_text= all_text[all_text.str.contains('Physical Exam:')]\n",
        "test_text= all_text[all_text.str.contains('Pertinent Results:')]\n",
        "test_text= all_text[all_text.str.contains('Brief Hospital Course:')]\n",
        "test_text= all_text[all_text.str.contains('Medications on Admission:')]\n",
        "test_text= all_text[all_text.str.contains('Discharge Medications:')]\n",
        "test_text= all_text[all_text.str.contains('Discharge Disposition:')]\n",
        "test_text= all_text[all_text.str.contains('Discharge Diagnosis:')]\n",
        "test_text= all_text[all_text.str.contains('Discharge Condition:')]\n",
        "test_text= all_text[all_text.str.contains('Discharge Instructions:')]\n",
        "test_text= all_text[all_text.str.contains('Followup Instructions:')]\n",
        "\n",
        "test_text.head()"
      ],
      "execution_count": 0,
      "outputs": [
        {
          "output_type": "execute_result",
          "data": {
            "text/plain": [
              "3    Admission Date:  [**2124-7-21**]              ...\n",
              "4    Admission Date:  [**2162-3-3**]              D...\n",
              "5    Admission Date:  [**2172-3-5**]              D...\n",
              "6    Admission Date:  [**2112-12-8**]              ...\n",
              "7    Admission Date:  [**2150-2-25**]              ...\n",
              "Name: TEXT, dtype: object"
            ]
          },
          "metadata": {
            "tags": []
          },
          "execution_count": 24
        }
      ]
    },
    {
      "cell_type": "code",
      "metadata": {
        "id": "A6lbwva3MVuG",
        "colab_type": "code",
        "outputId": "b25e218a-2b3d-4d7f-dd35-ab8eccbc60aa",
        "colab": {
          "base_uri": "https://localhost:8080/",
          "height": 35
        }
      },
      "source": [
        "test_text.count()"
      ],
      "execution_count": 0,
      "outputs": [
        {
          "output_type": "execute_result",
          "data": {
            "text/plain": [
              "10549"
            ]
          },
          "metadata": {
            "tags": []
          },
          "execution_count": 25
        }
      ]
    },
    {
      "cell_type": "code",
      "metadata": {
        "id": "l0a9lqrHOI4P",
        "colab_type": "code",
        "colab": {}
      },
      "source": [
        "# Remove line breaks\n",
        "test_text_final = []\n",
        "\n",
        "for x in range(len(test_text)):\n",
        "  test_text_final.append(test_text.iloc[x].replace('\\n', ' '))"
      ],
      "execution_count": 0,
      "outputs": []
    },
    {
      "cell_type": "code",
      "metadata": {
        "id": "oRzW3QNB8Yao",
        "colab_type": "code",
        "colab": {}
      },
      "source": [
        "# Brief Hospital Course\n",
        "gpt_text = []\n",
        "for x in range(len(test_text_final)):\n",
        "  gpt_text.append(re.findall(r'Brief Hospital Course: (.+) Medications on Admission:', test_text_final[x], re.DOTALL))\n",
        "gpt_text = [x for x in gpt_text if x]\n",
        "gpt_text = [item[0] for item in gpt_text]\n",
        "#gpt_text"
      ],
      "execution_count": 0,
      "outputs": []
    },
    {
      "cell_type": "code",
      "metadata": {
        "id": "_GnHuzcfCdo7",
        "colab_type": "code",
        "colab": {}
      },
      "source": [
        "# History of Present Illness\n",
        "gpt_text_2 = []\n",
        "for x in range(len(test_text_final)):\n",
        "  gpt_text_2.append(re.findall(r'History of Present Illness: (.+) Past Medical History:', test_text_final[x], re.DOTALL))\n",
        "gpt_text_2 = [x for x in gpt_text_2 if x]\n",
        "gpt_text_2 = [item[0] for item in gpt_text_2]\n",
        "#gpt_text_2"
      ],
      "execution_count": 0,
      "outputs": []
    },
    {
      "cell_type": "code",
      "metadata": {
        "id": "mq6ep5oyDCFd",
        "colab_type": "code",
        "colab": {}
      },
      "source": [
        "# Past Medical History\n",
        "gpt_text_3 = []\n",
        "for x in range(len(test_text_final)):\n",
        "  gpt_text_3.append(re.findall(r'Past Medical History: (.+) Social History:', test_text_final[x], re.DOTALL))\n",
        "gpt_text_3 = [x for x in gpt_text_3 if x]\n",
        "gpt_text_3 = [item[0] for item in gpt_text_3]\n",
        "#gpt_text_3"
      ],
      "execution_count": 0,
      "outputs": []
    },
    {
      "cell_type": "code",
      "metadata": {
        "id": "Uovwh4-rDhmZ",
        "colab_type": "code",
        "colab": {}
      },
      "source": [
        "# Social History\n",
        "gpt_text_4 = []\n",
        "for x in range(len(test_text_final)):\n",
        "  gpt_text_4.append(re.findall(r'Social History: (.+) Family History:', test_text_final[x], re.DOTALL))\n",
        "gpt_text_4 = [x for x in gpt_text_4 if x]\n",
        "gpt_text_4 = [item[0] for item in gpt_text_4]\n",
        "#gpt_text_4"
      ],
      "execution_count": 0,
      "outputs": []
    },
    {
      "cell_type": "code",
      "metadata": {
        "id": "Hi3kxlmwD9GL",
        "colab_type": "code",
        "colab": {}
      },
      "source": [
        "# Family History\n",
        "gpt_text_5 = []\n",
        "for x in range(len(test_text_final)):\n",
        "  gpt_text_5.append(re.findall(r'Family History: (.+) Physical Exam:', test_text_final[x], re.DOTALL))\n",
        "gpt_text_5 = [x for x in gpt_text_5 if x]\n",
        "gpt_text_5 = [item[0] for item in gpt_text_5]\n",
        "#gpt_text_5"
      ],
      "execution_count": 0,
      "outputs": []
    },
    {
      "cell_type": "code",
      "metadata": {
        "id": "cIxC-WPIv4wW",
        "colab_type": "code",
        "colab": {}
      },
      "source": [
        "# Service\n",
        "gpt_text_6 = []\n",
        "for x in range(len(gpt_text)):\n",
        "  gpt_text_6.append(re.findall(r'Service: (.+) Allergies:', test_text_final[x], re.DOTALL))\n",
        "gpt_text_6 = [x for x in gpt_text_6 if x]\n",
        "gpt_text_6 = [item[0] for item in gpt_text_6]\n",
        "gpt_text_6 = [x.split()[0] for x in gpt_text_6]\n",
        "#gpt_text_6"
      ],
      "execution_count": 0,
      "outputs": []
    },
    {
      "cell_type": "code",
      "metadata": {
        "id": "zy9TvbaKg0Hk",
        "colab_type": "code",
        "colab": {}
      },
      "source": [
        "# Chief Complaint\n",
        "gpt_text_7 = []\n",
        "for x in range(len(gpt_text)):\n",
        "  gpt_text_7.append(re.findall(r'Chief Complaint: (.+) Major Surgical or Invasive Procedure:', test_text_final[x], re.DOTALL))\n",
        "gpt_text_7 = [x for x in gpt_text_7 if x]\n",
        "gpt_text_7 = [item[0] for item in gpt_text_7]\n",
        "#gpt_text_7"
      ],
      "execution_count": 0,
      "outputs": []
    },
    {
      "cell_type": "code",
      "metadata": {
        "id": "1SvJhqXj7Obd",
        "colab_type": "code",
        "colab": {}
      },
      "source": [
        "Brief_Hospital_Course = pd.DataFrame(gpt_text, columns=['Brief Hospital Course'])\n",
        "# Brief_Hospital_Course\n",
        "\n",
        "History_Present_Illness = pd.DataFrame(gpt_text_2, columns=['History of Present Illness'])\n",
        "# History_Present_Illness\n",
        "\n",
        "Past_Medical_History = pd.DataFrame(gpt_text_3, columns=['Past Medical History'])\n",
        "# Past_Medical_History\n",
        "\n",
        "Social_History = pd.DataFrame(gpt_text_4, columns=['Social History'])\n",
        "# Social History\n",
        "\n",
        "Family_History = pd.DataFrame(gpt_text_5, columns=['Family History'])\n",
        "# Family History\n",
        "\n",
        "Service = pd.DataFrame(gpt_text_6, columns=['Service'])\n",
        "# Service\n",
        "\n",
        "Chief_Complaint = pd.DataFrame(gpt_text_7, columns=['Chief Complaint'])\n",
        "# Chief_Complaint"
      ],
      "execution_count": 0,
      "outputs": []
    },
    {
      "cell_type": "code",
      "metadata": {
        "id": "lNHqLfxHVKcu",
        "colab_type": "code",
        "colab": {}
      },
      "source": [
        "Brief_Hospital_Course.to_csv('Cleaned_Data_Brief_Hospital_Course_4.21.csv') \n",
        "files.download('Cleaned_Data_Brief_Hospital_Course_4.21.csv')"
      ],
      "execution_count": 0,
      "outputs": []
    },
    {
      "cell_type": "code",
      "metadata": {
        "id": "4gQDIc_FSUzH",
        "colab_type": "code",
        "colab": {}
      },
      "source": [
        "# len(gpt_text)\n",
        "# 10259\n",
        "\n",
        "# len(gpt_text_6)\n",
        "# 10259\n",
        "\n",
        "# len(gpt_text_7)\n",
        "# 10259"
      ],
      "execution_count": 0,
      "outputs": []
    },
    {
      "cell_type": "code",
      "metadata": {
        "id": "ZJLHsGruw5UV",
        "colab_type": "code",
        "outputId": "ee63925b-1f7f-4c97-82b3-5c25048f81b8",
        "colab": {
          "base_uri": "https://localhost:8080/",
          "height": 202
        }
      },
      "source": [
        "column_names = [\"Service\", \"Brief Hospital Course\"]\n",
        "Service_Brief_Hospital_Course = pd.DataFrame(columns = column_names)\n",
        "Service_Brief_Hospital_Course [\"Service\"] = gpt_text_6\n",
        "Service_Brief_Hospital_Course [\"Brief Hospital Course\"] = gpt_text\n",
        "\n",
        "Service_Brief_Hospital_Course = Service_Brief_Hospital_Course[Service_Brief_Hospital_Course['Service']!='[**Doctor First Name 147**]']\n",
        "Service_Brief_Hospital_Course = Service_Brief_Hospital_Course[Service_Brief_Hospital_Course['Service']!='[**Hospital Unit Name 196**]']\n",
        "Service_Brief_Hospital_Course = Service_Brief_Hospital_Course[Service_Brief_Hospital_Course['Service']!='[**Last Name (un) **]']\n",
        "Service_Brief_Hospital_Course = Service_Brief_Hospital_Course[Service_Brief_Hospital_Course['Service']!='[**Month/Day/Year 662**]']\n",
        "Service_Brief_Hospital_Course = Service_Brief_Hospital_Course[Service_Brief_Hospital_Course['Service']!='[**Year (4 digits) **]']\n",
        "Service_Brief_Hospital_Course = Service_Brief_Hospital_Course[Service_Brief_Hospital_Course['Service']!='[**Last Name (un) **]']\n",
        "Service_Brief_Hospital_Course = Service_Brief_Hospital_Course[Service_Brief_Hospital_Course['Service']!='[**Year (4 digits) 662**]']\n",
        "Service_Brief_Hospital_Course = Service_Brief_Hospital_Course[Service_Brief_Hospital_Course['Service']!='[**Year (4 digits) 662**]']\n",
        "Service_Brief_Hospital_Course = Service_Brief_Hospital_Course[Service_Brief_Hospital_Course['Service']!='[**Doctor']\n",
        "Service_Brief_Hospital_Course = Service_Brief_Hospital_Course[Service_Brief_Hospital_Course['Service']!='[**Hospital']\n",
        "Service_Brief_Hospital_Course = Service_Brief_Hospital_Course[Service_Brief_Hospital_Course['Service']!='[**Last']\n",
        "Service_Brief_Hospital_Course = Service_Brief_Hospital_Course[Service_Brief_Hospital_Course['Service']!='[**Month/Day/Year']\n",
        "Service_Brief_Hospital_Course = Service_Brief_Hospital_Course[Service_Brief_Hospital_Course['Service']!='[**Year']\n",
        "Service_Brief_Hospital_Course = Service_Brief_Hospital_Course[Service_Brief_Hospital_Course['Service']!='[**Year/Month/Day']\n",
        "\n",
        "Service_Brief_Hospital_Course.head()\n"
      ],
      "execution_count": 0,
      "outputs": [
        {
          "output_type": "execute_result",
          "data": {
            "text/html": [
              "<div>\n",
              "<style scoped>\n",
              "    .dataframe tbody tr th:only-of-type {\n",
              "        vertical-align: middle;\n",
              "    }\n",
              "\n",
              "    .dataframe tbody tr th {\n",
              "        vertical-align: top;\n",
              "    }\n",
              "\n",
              "    .dataframe thead th {\n",
              "        text-align: right;\n",
              "    }\n",
              "</style>\n",
              "<table border=\"1\" class=\"dataframe\">\n",
              "  <thead>\n",
              "    <tr style=\"text-align: right;\">\n",
              "      <th></th>\n",
              "      <th>Service</th>\n",
              "      <th>Brief Hospital Course</th>\n",
              "    </tr>\n",
              "  </thead>\n",
              "  <tbody>\n",
              "    <tr>\n",
              "      <th>0</th>\n",
              "      <td>MEDICINE</td>\n",
              "      <td>87 yo F with h/o CHF, COPD on 5 L oxygen at ba...</td>\n",
              "    </tr>\n",
              "    <tr>\n",
              "      <th>1</th>\n",
              "      <td>MEDICINE</td>\n",
              "      <td>Mr. [**Known lastname 1829**] was seen at [**H...</td>\n",
              "    </tr>\n",
              "    <tr>\n",
              "      <th>2</th>\n",
              "      <td>NEUROSURGERY</td>\n",
              "      <td>Patient presented electively for meningioma re...</td>\n",
              "    </tr>\n",
              "    <tr>\n",
              "      <th>3</th>\n",
              "      <td>MEDICINE</td>\n",
              "      <td>82 yo F with CAD, CHF, HTN, recent PE ([**10-1...</td>\n",
              "    </tr>\n",
              "    <tr>\n",
              "      <th>4</th>\n",
              "      <td>NEUROSURGERY</td>\n",
              "      <td>Patient presented electively on [**2-25**] for...</td>\n",
              "    </tr>\n",
              "  </tbody>\n",
              "</table>\n",
              "</div>"
            ],
            "text/plain": [
              "        Service                              Brief Hospital Course\n",
              "0      MEDICINE  87 yo F with h/o CHF, COPD on 5 L oxygen at ba...\n",
              "1      MEDICINE  Mr. [**Known lastname 1829**] was seen at [**H...\n",
              "2  NEUROSURGERY  Patient presented electively for meningioma re...\n",
              "3      MEDICINE  82 yo F with CAD, CHF, HTN, recent PE ([**10-1...\n",
              "4  NEUROSURGERY  Patient presented electively on [**2-25**] for..."
            ]
          },
          "metadata": {
            "tags": []
          },
          "execution_count": 48
        }
      ]
    },
    {
      "cell_type": "code",
      "metadata": {
        "id": "ydYPUxbnpDh4",
        "colab_type": "code",
        "colab": {}
      },
      "source": [
        "Service_Brief_Hospital_Course.to_csv('Service_Brief_Hospital_Course_4.30.csv') \n",
        "files.download('Service_Brief_Hospital_Course_4.30.csv')"
      ],
      "execution_count": 0,
      "outputs": []
    },
    {
      "cell_type": "code",
      "metadata": {
        "id": "VNc0LizSLGNp",
        "colab_type": "code",
        "outputId": "d1e6dd23-e6f9-4145-ab7c-6f0cf32b68ba",
        "colab": {
          "base_uri": "https://localhost:8080/",
          "height": 450
        }
      },
      "source": [
        "Counts = Service_Brief_Hospital_Course['Service'].value_counts()\n",
        "Counts"
      ],
      "execution_count": 0,
      "outputs": [
        {
          "output_type": "execute_result",
          "data": {
            "text/plain": [
              "MEDICINE                 6181\n",
              "CARDIOTHORACIC           1359\n",
              "SURGERY                  1274\n",
              "NEUROLOGY                 430\n",
              "NEUROSURGERY              368\n",
              "MED                       139\n",
              "ORTHOPAEDICS              137\n",
              "OBSTETRICS/GYNECOLOGY      49\n",
              "UROLOGY                    48\n",
              "PLASTIC                    29\n",
              "OTOLARYNGOLOGY             24\n",
              "EMERGENCY                  23\n",
              "CSURG                      16\n",
              "NMED                       16\n",
              "OMED                       12\n",
              "VSURG                      10\n",
              "PSYCHIATRY                  6\n",
              "TSURG                       4\n",
              "PODIATRY                    3\n",
              "GYN                         2\n",
              "RADIOLOGY                   2\n",
              "GU                          2\n",
              "PSURG                       1\n",
              "DENT                        1\n",
              "Name: Service, dtype: int64"
            ]
          },
          "metadata": {
            "tags": []
          },
          "execution_count": 58
        }
      ]
    },
    {
      "cell_type": "code",
      "metadata": {
        "id": "ysgX9-TkQhwl",
        "colab_type": "code",
        "outputId": "8485dc79-125d-433a-cf7f-34dce6e8c2f1",
        "colab": {
          "base_uri": "https://localhost:8080/",
          "height": 265
        }
      },
      "source": [
        "Counts = Service_Brief_Hospital_Course['Service'].value_counts().plot(kind='barh')"
      ],
      "execution_count": 0,
      "outputs": [
        {
          "output_type": "display_data",
          "data": {
            "image/png": "[encoded data removed]",
            "text/plain": [
              "<Figure size 432x288 with 1 Axes>"
            ]
          },
          "metadata": {
            "tags": [],
            "needs_background": "light"
          }
        }
      ]
    },
    {
      "cell_type": "code",
      "metadata": {
        "id": "UUxfY55fTAkT",
        "colab_type": "code",
        "outputId": "eae4ddf9-6b2f-4987-8919-9e8ccae7fff6",
        "colab": {
          "base_uri": "https://localhost:8080/",
          "height": 416
        }
      },
      "source": [
        "Service_Brief_Hospital_Course_Top5 = Service_Brief_Hospital_Course.query('Service == \"MEDICINE\" | Service == \"CARDIOTHORACIC\" | Service == \"SURGERY\" | Service == \"NEUROLOGY\" | Service == \"NEUROSURGERY\"')\n",
        "Service_Brief_Hospital_Course_Top5"
      ],
      "execution_count": 0,
      "outputs": [
        {
          "output_type": "execute_result",
          "data": {
            "text/html": [
              "<div>\n",
              "<style scoped>\n",
              "    .dataframe tbody tr th:only-of-type {\n",
              "        vertical-align: middle;\n",
              "    }\n",
              "\n",
              "    .dataframe tbody tr th {\n",
              "        vertical-align: top;\n",
              "    }\n",
              "\n",
              "    .dataframe thead th {\n",
              "        text-align: right;\n",
              "    }\n",
              "</style>\n",
              "<table border=\"1\" class=\"dataframe\">\n",
              "  <thead>\n",
              "    <tr style=\"text-align: right;\">\n",
              "      <th></th>\n",
              "      <th>Service</th>\n",
              "      <th>Brief Hospital Course</th>\n",
              "    </tr>\n",
              "  </thead>\n",
              "  <tbody>\n",
              "    <tr>\n",
              "      <th>0</th>\n",
              "      <td>MEDICINE</td>\n",
              "      <td>87 yo F with h/o CHF, COPD on 5 L oxygen at ba...</td>\n",
              "    </tr>\n",
              "    <tr>\n",
              "      <th>1</th>\n",
              "      <td>MEDICINE</td>\n",
              "      <td>Mr. [**Known lastname 1829**] was seen at [**H...</td>\n",
              "    </tr>\n",
              "    <tr>\n",
              "      <th>2</th>\n",
              "      <td>NEUROSURGERY</td>\n",
              "      <td>Patient presented electively for meningioma re...</td>\n",
              "    </tr>\n",
              "    <tr>\n",
              "      <th>3</th>\n",
              "      <td>MEDICINE</td>\n",
              "      <td>82 yo F with CAD, CHF, HTN, recent PE ([**10-1...</td>\n",
              "    </tr>\n",
              "    <tr>\n",
              "      <th>4</th>\n",
              "      <td>NEUROSURGERY</td>\n",
              "      <td>Patient presented electively on [**2-25**] for...</td>\n",
              "    </tr>\n",
              "    <tr>\n",
              "      <th>...</th>\n",
              "      <td>...</td>\n",
              "      <td>...</td>\n",
              "    </tr>\n",
              "    <tr>\n",
              "      <th>10254</th>\n",
              "      <td>MEDICINE</td>\n",
              "      <td>The patient was admitted to the orthopaedic su...</td>\n",
              "    </tr>\n",
              "    <tr>\n",
              "      <th>10255</th>\n",
              "      <td>MEDICINE</td>\n",
              "      <td>Mrs. [**Known lastname 51216**] was admitted f...</td>\n",
              "    </tr>\n",
              "    <tr>\n",
              "      <th>10256</th>\n",
              "      <td>MEDICINE</td>\n",
              "      <td>Patient was admitted to the ICU/neurosurgery s...</td>\n",
              "    </tr>\n",
              "    <tr>\n",
              "      <th>10257</th>\n",
              "      <td>MEDICINE</td>\n",
              "      <td>Neuro - Initially admitted to the [**Hospital ...</td>\n",
              "    </tr>\n",
              "    <tr>\n",
              "      <th>10258</th>\n",
              "      <td>MEDICINE</td>\n",
              "      <td>PT underwent a CABG X 4 [**9-23**].  Pt was tr...</td>\n",
              "    </tr>\n",
              "  </tbody>\n",
              "</table>\n",
              "<p>9612 rows × 2 columns</p>\n",
              "</div>"
            ],
            "text/plain": [
              "            Service                              Brief Hospital Course\n",
              "0          MEDICINE  87 yo F with h/o CHF, COPD on 5 L oxygen at ba...\n",
              "1          MEDICINE  Mr. [**Known lastname 1829**] was seen at [**H...\n",
              "2      NEUROSURGERY  Patient presented electively for meningioma re...\n",
              "3          MEDICINE  82 yo F with CAD, CHF, HTN, recent PE ([**10-1...\n",
              "4      NEUROSURGERY  Patient presented electively on [**2-25**] for...\n",
              "...             ...                                                ...\n",
              "10254      MEDICINE  The patient was admitted to the orthopaedic su...\n",
              "10255      MEDICINE  Mrs. [**Known lastname 51216**] was admitted f...\n",
              "10256      MEDICINE  Patient was admitted to the ICU/neurosurgery s...\n",
              "10257      MEDICINE  Neuro - Initially admitted to the [**Hospital ...\n",
              "10258      MEDICINE  PT underwent a CABG X 4 [**9-23**].  Pt was tr...\n",
              "\n",
              "[9612 rows x 2 columns]"
            ]
          },
          "metadata": {
            "tags": []
          },
          "execution_count": 65
        }
      ]
    },
    {
      "cell_type": "code",
      "metadata": {
        "id": "_tum85krVEEk",
        "colab_type": "code",
        "colab": {}
      },
      "source": [
        "Service_Brief_Hospital_Course_Top5.to_csv('Service_Brief_Hospital_Course_Top5.csv') \n",
        "files.download('Service_Brief_Hospital_Course_Top5.csv')"
      ],
      "execution_count": 0,
      "outputs": []
    }
  ]
}
